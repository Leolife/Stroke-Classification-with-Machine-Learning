{
 "cells": [
  {
   "cell_type": "code",
   "execution_count": 46,
   "id": "0df123a1-ff9e-4f27-b934-6ff1608f7776",
   "metadata": {},
   "outputs": [],
   "source": [
    "# import\n",
    "import pandas as pd\n",
    "from sklearn.model_selection import train_test_split\n",
    "from sklearn.preprocessing import StandardScaler\n",
    "from sklearn.ensemble import RandomForestClassifier  # Example model, replace with your model\n",
    "from sklearn.metrics import accuracy_score, confusion_matrix, classification_report\n",
    "import seaborn as sns\n",
    "import matplotlib.pyplot as plt\n",
    "from imblearn.over_sampling import SMOTE\n",
    "from collections import Counter"
   ]
  },
  {
   "cell_type": "code",
   "execution_count": 47,
   "id": "317cbf98-8972-473a-ad40-5f26cb754882",
   "metadata": {},
   "outputs": [],
   "source": [
    "# 1. Load the dataset\n",
    "data = pd.read_csv(\"healthcare-dataset-stroke-data.csv\")"
   ]
  },
  {
   "cell_type": "code",
   "execution_count": 48,
   "id": "071d2b3a-3051-417f-8971-4f5c6b3fc612",
   "metadata": {},
   "outputs": [],
   "source": [
    "# 2. Preprocess the data\n",
    "# Handle any missing values (e.g., 'bmi' if there are NaNs)\n",
    "data['bmi'] = data['bmi'].fillna(data['bmi'].mean())  # Replace NaN in 'bmi' with mean\n",
    "\n",
    "# Encode categorical variables (gender, ever_married, Residence_type)\n",
    "data['gender'] = data['gender'].map({'Male': 0, 'Female': 1, 'Other': 2})\n",
    "data['ever_married'] = data['ever_married'].map({'No': 0, 'Yes': 1})\n",
    "data['work_type'] = data['work_type'].map({'children': 0, 'Govt_job': 1, 'Never_worked':2,'Private':3, 'Self-employed':4,})\n",
    "data['Residence_type'] = data['Residence_type'].map({'Rural': 0, 'Urban': 1})\n",
    "data['smoking_status'] = data['smoking_status'].map({'formerly smoked': 0, 'never smoked': 1, 'smokes': 2, 'Unknown': 3})\n",
    "\n",
    "# Use one-hot encoding for work_type and smoking_status\n",
    "data = pd.get_dummies(data, columns=['work_type', 'smoking_status'], drop_first=True)"
   ]
  },
  {
   "cell_type": "code",
   "execution_count": 49,
   "id": "b5316738-fe60-41ae-902a-2b8c0db53c21",
   "metadata": {},
   "outputs": [
    {
     "name": "stdout",
     "output_type": "stream",
     "text": [
      "\n",
      "Original dataset shape: Counter({0: 4861, 1: 249})\n",
      "Resampled dataset shape: Counter({1: 4861, 0: 4861})\n"
     ]
    }
   ],
   "source": [
    "# 3. Define features and target; apply data augmentation\n",
    "# Drop 'id' as it's just an identifier, and 'stroke' as it's the target variable\n",
    "X = data.drop(['id', 'stroke'], axis=1)\n",
    "y = data['stroke']\n",
    "\n",
    "# Apply SMOTE before splitting the data\n",
    "smote = SMOTE(random_state=42)\n",
    "X_resampled, y_resampled = smote.fit_resample(X, y)\n",
    "\n",
    "# Check the new class distribution\n",
    "print(\"\\nOriginal dataset shape:\", Counter(y))\n",
    "print(\"Resampled dataset shape:\", Counter(y_resampled))"
   ]
  },
  {
   "cell_type": "code",
   "execution_count": 50,
   "id": "f6161a5f-ec3f-40ea-952b-11ab03a6bafc",
   "metadata": {},
   "outputs": [],
   "source": [
    "# 4. Split the data into training and testing sets\n",
    "X_train, X_test, y_train, y_test = train_test_split(X_resampled, y_resampled, test_size=0.2, random_state=42)"
   ]
  },
  {
   "cell_type": "code",
   "execution_count": 51,
   "id": "ba46de50-5fbd-4ccd-b014-2d3ae7c77233",
   "metadata": {},
   "outputs": [],
   "source": [
    "# 5. Standardize the data (if needed, depending on model choice)\n",
    "scaler = StandardScaler()\n",
    "X_train = scaler.fit_transform(X_train)\n",
    "X_test = scaler.transform(X_test)"
   ]
  },
  {
   "cell_type": "code",
   "execution_count": 52,
   "id": "04c4e355-5082-4afe-a4bf-4d816576c70e",
   "metadata": {},
   "outputs": [
    {
     "data": {
      "text/html": [
       "<style>#sk-container-id-3 {color: black;}#sk-container-id-3 pre{padding: 0;}#sk-container-id-3 div.sk-toggleable {background-color: white;}#sk-container-id-3 label.sk-toggleable__label {cursor: pointer;display: block;width: 100%;margin-bottom: 0;padding: 0.3em;box-sizing: border-box;text-align: center;}#sk-container-id-3 label.sk-toggleable__label-arrow:before {content: \"▸\";float: left;margin-right: 0.25em;color: #696969;}#sk-container-id-3 label.sk-toggleable__label-arrow:hover:before {color: black;}#sk-container-id-3 div.sk-estimator:hover label.sk-toggleable__label-arrow:before {color: black;}#sk-container-id-3 div.sk-toggleable__content {max-height: 0;max-width: 0;overflow: hidden;text-align: left;background-color: #f0f8ff;}#sk-container-id-3 div.sk-toggleable__content pre {margin: 0.2em;color: black;border-radius: 0.25em;background-color: #f0f8ff;}#sk-container-id-3 input.sk-toggleable__control:checked~div.sk-toggleable__content {max-height: 200px;max-width: 100%;overflow: auto;}#sk-container-id-3 input.sk-toggleable__control:checked~label.sk-toggleable__label-arrow:before {content: \"▾\";}#sk-container-id-3 div.sk-estimator input.sk-toggleable__control:checked~label.sk-toggleable__label {background-color: #d4ebff;}#sk-container-id-3 div.sk-label input.sk-toggleable__control:checked~label.sk-toggleable__label {background-color: #d4ebff;}#sk-container-id-3 input.sk-hidden--visually {border: 0;clip: rect(1px 1px 1px 1px);clip: rect(1px, 1px, 1px, 1px);height: 1px;margin: -1px;overflow: hidden;padding: 0;position: absolute;width: 1px;}#sk-container-id-3 div.sk-estimator {font-family: monospace;background-color: #f0f8ff;border: 1px dotted black;border-radius: 0.25em;box-sizing: border-box;margin-bottom: 0.5em;}#sk-container-id-3 div.sk-estimator:hover {background-color: #d4ebff;}#sk-container-id-3 div.sk-parallel-item::after {content: \"\";width: 100%;border-bottom: 1px solid gray;flex-grow: 1;}#sk-container-id-3 div.sk-label:hover label.sk-toggleable__label {background-color: #d4ebff;}#sk-container-id-3 div.sk-serial::before {content: \"\";position: absolute;border-left: 1px solid gray;box-sizing: border-box;top: 0;bottom: 0;left: 50%;z-index: 0;}#sk-container-id-3 div.sk-serial {display: flex;flex-direction: column;align-items: center;background-color: white;padding-right: 0.2em;padding-left: 0.2em;position: relative;}#sk-container-id-3 div.sk-item {position: relative;z-index: 1;}#sk-container-id-3 div.sk-parallel {display: flex;align-items: stretch;justify-content: center;background-color: white;position: relative;}#sk-container-id-3 div.sk-item::before, #sk-container-id-3 div.sk-parallel-item::before {content: \"\";position: absolute;border-left: 1px solid gray;box-sizing: border-box;top: 0;bottom: 0;left: 50%;z-index: -1;}#sk-container-id-3 div.sk-parallel-item {display: flex;flex-direction: column;z-index: 1;position: relative;background-color: white;}#sk-container-id-3 div.sk-parallel-item:first-child::after {align-self: flex-end;width: 50%;}#sk-container-id-3 div.sk-parallel-item:last-child::after {align-self: flex-start;width: 50%;}#sk-container-id-3 div.sk-parallel-item:only-child::after {width: 0;}#sk-container-id-3 div.sk-dashed-wrapped {border: 1px dashed gray;margin: 0 0.4em 0.5em 0.4em;box-sizing: border-box;padding-bottom: 0.4em;background-color: white;}#sk-container-id-3 div.sk-label label {font-family: monospace;font-weight: bold;display: inline-block;line-height: 1.2em;}#sk-container-id-3 div.sk-label-container {text-align: center;}#sk-container-id-3 div.sk-container {/* jupyter's `normalize.less` sets `[hidden] { display: none; }` but bootstrap.min.css set `[hidden] { display: none !important; }` so we also need the `!important` here to be able to override the default hidden behavior on the sphinx rendered scikit-learn.org. See: https://github.com/scikit-learn/scikit-learn/issues/21755 */display: inline-block !important;position: relative;}#sk-container-id-3 div.sk-text-repr-fallback {display: none;}</style><div id=\"sk-container-id-3\" class=\"sk-top-container\"><div class=\"sk-text-repr-fallback\"><pre>RandomForestClassifier(random_state=42)</pre><b>In a Jupyter environment, please rerun this cell to show the HTML representation or trust the notebook. <br />On GitHub, the HTML representation is unable to render, please try loading this page with nbviewer.org.</b></div><div class=\"sk-container\" hidden><div class=\"sk-item\"><div class=\"sk-estimator sk-toggleable\"><input class=\"sk-toggleable__control sk-hidden--visually\" id=\"sk-estimator-id-3\" type=\"checkbox\" checked><label for=\"sk-estimator-id-3\" class=\"sk-toggleable__label sk-toggleable__label-arrow\">RandomForestClassifier</label><div class=\"sk-toggleable__content\"><pre>RandomForestClassifier(random_state=42)</pre></div></div></div></div></div>"
      ],
      "text/plain": [
       "RandomForestClassifier(random_state=42)"
      ]
     },
     "execution_count": 52,
     "metadata": {},
     "output_type": "execute_result"
    }
   ],
   "source": [
    "# 6. Train the model (using RandomForest as an example)\n",
    "model = RandomForestClassifier(random_state=42)\n",
    "model.fit(X_train, y_train)"
   ]
  },
  {
   "cell_type": "code",
   "execution_count": 53,
   "id": "da09b376-1fb1-46b2-a8d3-2896ee62931f",
   "metadata": {},
   "outputs": [],
   "source": [
    "# 7. Make predictions\n",
    "y_pred = model.predict(X_test)"
   ]
  },
  {
   "cell_type": "code",
   "execution_count": 54,
   "id": "ae599c84-ef3c-4fa9-9f01-85f9de7706cf",
   "metadata": {},
   "outputs": [
    {
     "name": "stdout",
     "output_type": "stream",
     "text": [
      "Accuracy: 0.9562982005141388\n",
      "Confusion Matrix:\n",
      " [[930  45]\n",
      " [ 40 930]]\n",
      "Classification Report:\n",
      "               precision    recall  f1-score   support\n",
      "\n",
      "           0       0.96      0.95      0.96       975\n",
      "           1       0.95      0.96      0.96       970\n",
      "\n",
      "    accuracy                           0.96      1945\n",
      "   macro avg       0.96      0.96      0.96      1945\n",
      "weighted avg       0.96      0.96      0.96      1945\n",
      "\n"
     ]
    }
   ],
   "source": [
    "# 8. Evaluate the model\n",
    "accuracy = accuracy_score(y_test, y_pred)\n",
    "conf_matrix = confusion_matrix(y_test, y_pred)\n",
    "class_report = classification_report(y_test, y_pred)\n",
    "\n",
    "print(\"Accuracy:\", accuracy)\n",
    "print(\"Confusion Matrix:\\n\", conf_matrix)\n",
    "print(\"Classification Report:\\n\", class_report)"
   ]
  },
  {
   "cell_type": "code",
   "execution_count": 55,
   "id": "db3df2c2-2b2a-443b-b40b-5927fe374e81",
   "metadata": {},
   "outputs": [
    {
     "data": {
      "image/png": "[encoded data removed]",
      "text/plain": [
       "<Figure size 576x432 with 2 Axes>"
      ]
     },
     "metadata": {
      "needs_background": "light"
     },
     "output_type": "display_data"
    },
    {
     "name": "stdout",
     "output_type": "stream",
     "text": [
      "\n",
      "Model Performance Metrics:\n",
      "Accuracy: 0.9563\n",
      "\n",
      "Confusion Matrix Explanation:\n",
      "True Negatives (top-left): 930\n",
      "False Positives (top-right): 45\n",
      "False Negatives (bottom-left): 40\n",
      "True Positives (bottom-right): 930\n"
     ]
    }
   ],
   "source": [
    "# 9. Visualize the results\n",
    "# Create confusion matrix visualization\n",
    "plt.figure(figsize=(8, 6))\n",
    "sns.heatmap(conf_matrix, \n",
    "            annot=True,  # Show numbers in cells\n",
    "            fmt='d',     # Format as integers\n",
    "            cmap='Blues',  # Color scheme (you can change this)\n",
    "            xticklabels=['No Stroke', 'Stroke'],\n",
    "            yticklabels=['No Stroke', 'Stroke'])\n",
    "\n",
    "plt.title('Confusion Matrix')\n",
    "plt.ylabel('True Label')\n",
    "plt.xlabel('Predicted Label')\n",
    "plt.show()\n",
    "\n",
    "# You can also print the raw metrics for reference\n",
    "print(\"\\nModel Performance Metrics:\")\n",
    "print(f\"Accuracy: {accuracy:.4f}\")\n",
    "print(\"\\nConfusion Matrix Explanation:\")\n",
    "print(\"True Negatives (top-left):\", conf_matrix[0][0])\n",
    "print(\"False Positives (top-right):\", conf_matrix[0][1])\n",
    "print(\"False Negatives (bottom-left):\", conf_matrix[1][0])\n",
    "print(\"True Positives (bottom-right):\", conf_matrix[1][1])"
   ]
  },
  {
   "cell_type": "code",
   "execution_count": null,
   "id": "fefb6c60",
   "metadata": {},
   "outputs": [],
   "source": []
  }
 ],
 "metadata": {
  "kernelspec": {
   "display_name": "Python 3",
   "language": "python",
   "name": "python3"
  },
  "language_info": {
   "codemirror_mode": {
    "name": "ipython",
    "version": 3
   },
   "file_extension": ".py",
   "mimetype": "text/x-python",
   "name": "python",
   "nbconvert_exporter": "python",
   "pygments_lexer": "ipython3",
   "version": "3.8.8"
  }
 },
 "nbformat": 4,
 "nbformat_minor": 5
}
